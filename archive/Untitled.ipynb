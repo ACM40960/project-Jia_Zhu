{
 "cells": [
  {
   "cell_type": "code",
   "execution_count": 6,
   "id": "eb7df88e",
   "metadata": {},
   "outputs": [],
   "source": [
    "import yaml\n",
    "with open(\"config.yml\", 'r') as stream:\n",
    "    out = yaml.load(stream, Loader=yaml.FullLoader)"
   ]
  },
  {
   "cell_type": "code",
   "execution_count": 7,
   "id": "20ae42da",
   "metadata": {},
   "outputs": [
    {
     "data": {
      "text/plain": [
       "{'blur': 'gaussian',\n",
       " 'resized_dim': 256,\n",
       " 'classes': ['glioma', 'meningioma', 'notumor', 'pituitary'],\n",
       " 'epochs': 20,\n",
       " 'batch_size': 32,\n",
       " 'learning_rate': 0.0005,\n",
       " 'model_type': 'VGG19',\n",
       " 'augmentation': True,\n",
       " 'continue_training': False,\n",
       " 'masked': False,\n",
       " 'processed': True,\n",
       " 'seed': 123,\n",
       " 'model_path': 'models/inceptionv3_aug/weights-11-0.78.h5',\n",
       " 'predict_folder': 'data/predict/'}"
      ]
     },
     "execution_count": 7,
     "metadata": {},
     "output_type": "execute_result"
    }
   ],
   "source": [
    "out"
   ]
  },
  {
   "cell_type": "code",
   "execution_count": null,
   "id": "8783d28b",
   "metadata": {},
   "outputs": [],
   "source": []
  }
 ],
 "metadata": {
  "kernelspec": {
   "display_name": "Python 3 (ipykernel)",
   "language": "python",
   "name": "python3"
  },
  "language_info": {
   "codemirror_mode": {
    "name": "ipython",
    "version": 3
   },
   "file_extension": ".py",
   "mimetype": "text/x-python",
   "name": "python",
   "nbconvert_exporter": "python",
   "pygments_lexer": "ipython3",
   "version": "3.9.12"
  }
 },
 "nbformat": 4,
 "nbformat_minor": 5
}
